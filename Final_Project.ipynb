{
 "cells": [
  {
   "cell_type": "code",
   "execution_count": 73,
   "metadata": {},
   "outputs": [],
   "source": [
    "playerPages = [\n",
    "    'https://www.hltv.org/stats/players/matches/7998/s1mple?startDate=all&matchType=Lan&rankingFilter=Top50',\n",
    "    'https://www.hltv.org/stats/players/matches/3741/NiKo?startDate=all&matchType=Lan&rankingFilter=Top50',\n",
    "    'https://www.hltv.org/stats/players/matches/7592/device?startDate=all&matchType=Lan&rankingFilter=Top50',\n",
    "    'https://www.hltv.org/stats/players/matches/7167/kennyS?startDate=all&matchType=Lan&rankingFilter=Top50',\n",
    "    'https://www.hltv.org/stats/players/matches/5794/tabseN?startDate=all&matchType=Lan&rankingFilter=Top50',\n",
    "    'https://www.hltv.org/stats/players/matches/8918/electronic?startDate=all&matchType=Lan&rankingFilter=Top50',\n",
    "    'https://www.hltv.org/stats/players/matches/9032/Magisk?startDate=all&matchType=Lan&rankingFilter=Top50',\n",
    "    'https://www.hltv.org/stats/players/matches/2757/GuardiaN?startDate=all&matchType=Lan&rankingFilter=Top50',\n",
    "    'https://www.hltv.org/stats/players/matches/9031/valde?startDate=all&matchType=Lan&rankingFilter=Top50',\n",
    "    'https://www.hltv.org/stats/players/matches/10671/Ethan?startDate=all&matchType=Lan&rankingFilter=Top50',\n",
    "    'https://www.hltv.org/stats/players/matches/8520/NAF?startDate=all&matchType=Lan&rankingFilter=Top50',\n",
    "    'https://www.hltv.org/stats/players/matches/7398/dupreeh?startDate=all&matchType=Lan&rankingFilter=Top50',\n",
    "    'https://www.hltv.org/stats/players/matches/9216/coldzera?startDate=all&matchType=Lan&rankingFilter=Top50',\n",
    "    'https://www.hltv.org/stats/players/matches/9136/Brehze?startDate=all&matchType=Lan&rankingFilter=Top50',\n",
    "    #'https://www.hltv.org/stats/players/10394/Twistzz?startDate=all&matchType=Lan&rankingFilter=Top50',\n",
    "    #'https://www.hltv.org/stats/players/8738/EliGE?startDate=all&matchType=Lan&rankingFilter=Top50',\n",
    "    'https://www.hltv.org/stats/players/matches/695/allu?startDate=all&matchType=Lan&rankingFilter=Top50',\n",
    "    'https://www.hltv.org/stats/players/matches/11916/sergej?startDate=all&matchType=Lan&rankingFilter=Top50',\n",
    "    'https://www.hltv.org/stats/players/matches/9895/mertz?startDate=all&matchType=Lan&rankingFilter=Top50',\n",
    "    'https://www.hltv.org/stats/players/matches/11219/CeRq?startDate=all&matchType=Lan&rankingFilter=Top50',\n",
    "    'https://www.hltv.org/stats/players/matches/4954/Xyp9x?startDate=all&matchType=Lan&rankingFilter=Top50',\n",
    "    'https://www.hltv.org/stats/players/matches/7167/kennyS?startDate=all&matchType=Lan&rankingFilter=Top50',\n",
    "    'https://www.hltv.org/stats/players/matches/7412/gla1ve?startDate=all&matchType=Lan&rankingFilter=Top50',\n",
    "    'https://www.hltv.org/stats/players/matches/10449/ISSAA?startDate=all&matchType=Lan&rankingFilter=Top50',\n",
    "    'https://www.hltv.org/stats/players/matches/4679/jks?startDate=all&matchType=Lan&rankingFilter=Top50',\n",
    "    'https://www.hltv.org/stats/players/matches/2757/GuardiaN?startDate=all&matchType=Lan&rankingFilter=Top50',\n",
    "    'https://www.hltv.org/stats/players/matches/5479/suNny?startDate=all&matchType=Lan&rankingFilter=Top50',\n",
    "    'https://www.hltv.org/stats/players/matches/7528/KRIMZ?startDate=all&matchType=Lan&rankingFilter=Top50',\n",
    "    'https://www.hltv.org/stats/players/matches/8248/jkaem?startDate=all&matchType=Lan&rankingFilter=Top50',\n",
    "    'https://www.hltv.org/stats/players/matches/29/f0rest?startDate=all&matchType=Lan&rankingFilter=Top50',\n",
    "    'https://www.hltv.org/stats/players/matches/798/oskar?startDate=all&matchType=Lan&rankingFilter=Top50',\n",
    "    #'https://www.hltv.org/stats/players/1225/shox?startDate=all&matchType=Lan&rankingFilter=Top50',\n",
    "    'https://www.hltv.org/stats/players/matches/8183/rain?startDate=all&matchType=Lan&rankingFilter=Top50',\n",
    "    'https://www.hltv.org/stats/players/matches/8564/fer?startDate=all&matchType=Lan&rankingFilter=Top50',\n",
    "    'https://www.hltv.org/stats/players/matches/4076/Aerial?startDate=all&matchType=Lan&rankingFilter=Top50',\n",
    "    'https://www.hltv.org/stats/players/matches/2469/cajunb?startDate=all&matchType=Lan&rankingFilter=Top50',\n",
    "    #'https://www.hltv.org/stats/players/11816/ropz?startDate=all&matchType=Lan&rankingFilter=Top50',\n",
    "    'https://www.hltv.org/stats/players/matches/7131/BnTeT?startDate=all&matchType=Lan&rankingFilter=Top50',\n",
    "    'https://www.hltv.org/stats/players/matches/13666/Brollan?startDate=all&matchType=Lan&rankingFilter=Top50',\n",
    "    'https://www.hltv.org/stats/players/matches/9278/REZ?startDate=all&matchType=Lan&rankingFilter=Top50',\n",
    "    'https://www.hltv.org/stats/players/matches/7256/nex?startDate=all&matchType=Lan&rankingFilter=Top50',\n",
    "    'https://www.hltv.org/stats/players/matches/2023/FalleN?startDate=all&matchType=Lan&rankingFilter=Top50',\n",
    "    'https://www.hltv.org/stats/players/matches/8095/aizy?startDate=all&matchType=Lan&rankingFilter=Top50',\n",
    "    'https://www.hltv.org/stats/players/matches/7687/nitr0?startDate=all&matchType=Lan&rankingFilter=Top50',\n",
    "    'https://www.hltv.org/stats/players/matches/7594/flamie?startDate=all&matchType=Lan&rankingFilter=Top50',\n",
    "    'https://www.hltv.org/stats/players/matches/9816/Aleksib?startDate=all&matchType=Lan&rankingFilter=Top50',\n",
    "    'https://www.hltv.org/stats/players/matches/8394/Kjaerbye?startDate=all&matchType=Lan&rankingFilter=Top50',\n",
    "    'https://www.hltv.org/stats/players/matches/8605/somebody?startDate=all&matchType=Lan&rankingFilter=Top50',\n",
    "    'https://www.hltv.org/stats/players/matches/8523/tarik?startDate=all&matchType=Lan&rankingFilter=Top50',\n",
    "    'https://www.hltv.org/stats/players/matches/8797/Stewie2K?startDate=all&matchType=Lan&rankingFilter=Top50',\n",
    "    'https://www.hltv.org/stats/players/matches/9261/Lekr0?startDate=all&matchType=Lan&rankingFilter=Top50',\n",
    "    'https://www.hltv.org/stats/players/matches/3849/JW?startDate=all&matchType=Lan&rankingFilter=Top50',\n",
    "    'https://www.hltv.org/stats/players/matches/2730/chrisJ?startDate=all&matchType=Lan&rankingFilter=Top50',\n",
    "    'https://www.hltv.org/stats/players/matches/885/olofmeister?startDate=all&matchType=Lan&rankingFilter=Top50',\n",
    "    'https://www.hltv.org/stats/players/matches/8875/gade?startDate=all&matchType=Lan&rankingFilter=Top50',\n",
    "    'https://www.hltv.org/stats/players/matches/7026/DD?startDate=all&matchType=Lan&rankingFilter=Top50',\n",
    "    'https://www.hltv.org/stats/players/matches/7248/xseveN?startDate=all&matchType=Lan&rankingFilter=Top50',\n",
    "    'https://www.hltv.org/stats/players/matches/483/Edward?startDate=all&matchType=Lan&rankingFilter=Top50',\n",
    "    'https://www.hltv.org/stats/players/matches/8082/AZR?startDate=all&matchType=Lan&rankingFilter=Top50',\n",
    "    'https://www.hltv.org/stats/players/matches/334/AdreN?startDate=all&matchType=Lan&rankingFilter=Top50',\n",
    "    'https://www.hltv.org/stats/players/matches/8522/FugLy?startDate=all&matchType=Lan&rankingFilter=Top50',\n",
    "    'https://www.hltv.org/stats/players/matches/1146/dennis?startDate=all&matchType=Lan&rankingFilter=Top50',\n",
    "    'https://www.hltv.org/stats/players/matches/10263/xccurate?startDate=all&matchType=Lan&rankingFilter=Top50',\n",
    "    'https://www.hltv.org/stats/players/matches/39/GeT_RiGhT?startDate=all&matchType=Lan&rankingFilter=Top50',\n",
    "    'https://www.hltv.org/stats/players/matches/9217/TACO?startDate=all&matchType=Lan&rankingFilter=Top50',\n",
    "    'https://www.hltv.org/stats/players/matches/6904/STYKO?startDate=all&matchType=Lan&rankingFilter=Top50',\n",
    "    'https://www.hltv.org/stats/players/matches/5796/tiziaN?startDate=all&matchType=Lan&rankingFilter=Top50',\n",
    "    'https://www.hltv.org/stats/players/matches/339/ANGE1?startDate=all&matchType=Lan&rankingFilter=Top50',\n",
    "    'https://www.hltv.org/stats/players/matches/884/Xizt?startDate=all&matchType=Lan&rankingFilter=Top50',\n",
    "    'https://www.hltv.org/stats/players/matches/484/Zeus?startDate=all&matchType=Lan&rankingFilter=Top50',\n",
    "    'https://www.hltv.org/stats/players/matches/429/karrigan?startDate=all&matchType=Lan&rankingFilter=Top50',\n",
    "    'https://www.hltv.org/stats/players/matches/136/gob%20b?startDate=all&matchType=Lan&rankingFilter=Top50',\n",
    "    'https://www.hltv.org/stats/players/matches/8521/daps?startDate=all&matchType=Lan&rankingFilter=Top50' \n",
    "]"
   ]
  },
  {
   "cell_type": "code",
   "execution_count": 74,
   "metadata": {},
   "outputs": [],
   "source": [
    "playerNames = [\n",
    "    's1mple',\n",
    "    'NiKo',\n",
    "    'device',\n",
    "    'kennyS',\n",
    "    'tabseN',\n",
    "    'electronic',\n",
    "    'Magisk',\n",
    "    'GuardiaN',\n",
    "    'valde',\n",
    "    'Ethan',\n",
    "    'NAF',\n",
    "    'dupreeh',\n",
    "    'coldzera',\n",
    "    'Brehze',\n",
    "   # 'Twistzz',\n",
    "   # 'EliGE',\n",
    "    'allu',\n",
    "    'sergej',\n",
    "    'mertz',\n",
    "    'CeRq',\n",
    "    'Xyp9x',\n",
    "    'kennyS',\n",
    "    'gla1ve',\n",
    "    'ISSAA',\n",
    "    'jks',\n",
    "    'GuardiaN',\n",
    "    'suNny',\n",
    "    'KRIMZ',\n",
    "    'jkaem',\n",
    "    'f0rest',\n",
    "    'oskar',\n",
    "    #'shox',\n",
    "    'rain',\n",
    "    'fer',\n",
    "    'Aerial',\n",
    "    'cajunb',\n",
    "    #'ropz',\n",
    "    'BnTeT',\n",
    "    'Brollan',\n",
    "    'REZ',\n",
    "    'nex',\n",
    "    'FalleN',\n",
    "    'aizy',\n",
    "    'nitr0',\n",
    "    'flamie',\n",
    "    'Aleksib',\n",
    "    'Kjaerbye',\n",
    "    'somebody',\n",
    "    'tarik',\n",
    "    'Stewie2K',\n",
    "    'Lekr0',\n",
    "    'JW',\n",
    "    'chrisJ',\n",
    "    'olofmeister',\n",
    "    'gade',\n",
    "    'DD',\n",
    "    'xseveN',\n",
    "    'Edward',\n",
    "    'AZR',\n",
    "    'AdreN',\n",
    "    'FugLy',\n",
    "    'dennis',\n",
    "    'xccurate',\n",
    "    'GeT_RiGhT',\n",
    "    'TACO',\n",
    "    'STYKO',\n",
    "    'tiziaN',\n",
    "    'ANGE1',\n",
    "    'Xizt',\n",
    "    'Zeus',\n",
    "    'karrigan',\n",
    "    'gob b',\n",
    "    'daps' \n",
    "]"
   ]
  },
  {
   "cell_type": "code",
   "execution_count": 75,
   "metadata": {},
   "outputs": [],
   "source": [
    "import requests\n",
    "import lxml.html as lh\n",
    "import pandas as pd\n",
    "import numpy as np"
   ]
  },
  {
   "cell_type": "code",
   "execution_count": 76,
   "metadata": {},
   "outputs": [],
   "source": [
    "#specify the user agent of your device to allow you to make a request\n",
    "#you can find your user agent here: https://what-is-my.com/browser/user-agent/\n",
    "user_agent = 'Mozilla/5.0 (Macintosh; Intel Mac OS X 10_13_6) AppleWebKit/537.36 (KHTML, like Gecko) Chrome/73.0.3683.103 Safari/537.36'\n",
    "headers = {'User-Agent': user_agent}\n",
    "\n",
    "#Create a handle, page, to handle the contents of the website\n",
    "#page = requests.get(url,headers=headers)\n",
    "\n",
    "#tell me if the request succeeded: 403=no, 200=yes\n",
    "#print(page)"
   ]
  },
  {
   "cell_type": "code",
   "execution_count": 77,
   "metadata": {},
   "outputs": [],
   "source": [
    "def getStats(url, player):\n",
    "\n",
    "    #Create a handle, page, to handle the contents of the website\n",
    "    page = requests.get(url,headers=headers)\n",
    "\n",
    "    #tell me if the request succeeded: 403=no, 200=yes\n",
    "    print(page)\n",
    "    #Store the contents of the website under doc\n",
    "    doc = lh.fromstring(page.content)\n",
    "    #Parse data that are stored between <tr>..</tr> of HTML\n",
    "    tr_elements = doc.xpath('//tr')\n",
    "\n",
    "    tr_elements = doc.xpath('//tr')\n",
    "    #Create empty list\n",
    "    col=[]\n",
    "    i=1\n",
    "    #For each row, store each first element (header) and an empty list\n",
    "    for t in tr_elements[0]:\n",
    "        #i+=1\n",
    "        name=t.text_content()\n",
    "        if name not in [\"T1\", \"T2\"]: \n",
    "\n",
    "            #print( '%d: \"%s\"'% (i,name)) \n",
    "            col.append((name,[]))\n",
    "            i+= 1\n",
    "\n",
    "    winCond = []  \n",
    "    playerLabel = []\n",
    "    #Since our first row is the header, data is stored on the second row onwards\n",
    "    for j in range(1,len(tr_elements)):\n",
    "        #T is our j'th row\n",
    "        T=tr_elements[j]\n",
    "\n",
    "        #If row is not of proper length, the //tr data is not from our table \n",
    "        if len(T)== len(tr_elements[1]):\n",
    "\n",
    "            #i is the index of our column\n",
    "            i=0\n",
    "            playerLabel.append(player)\n",
    "            #Iterate through each element of the row\n",
    "            for t in T.iterchildren():\n",
    "\n",
    "                \n",
    "                textString = lh.tostring(t)\n",
    "                textString = str(textString)\n",
    "\n",
    "                if (\"match-won\" in textString ):\n",
    "                    #print(1)\n",
    "                    winCond.append(1)\n",
    "                elif \"match-lost\" in textString :\n",
    "                    winCond.append(0)\n",
    "                elif \"match-tied\" in textString:\n",
    "                    winCond.append(2)\n",
    "\n",
    "\n",
    "\n",
    "                data=t.text_content() \n",
    "                #Append the data to the empty list of the i'th column\n",
    "\n",
    "            #Check if row is empty\n",
    "                #if i>0:\n",
    "                #Convert any numerical value to integers\n",
    "\n",
    "                data = str(data)\n",
    "                data = data.replace('\\n','')\n",
    "                data = data.strip()\n",
    "                #print(data)\n",
    "                #print(i)\n",
    "\n",
    "\n",
    "                #I put this in because for some reason some graphs have empty columns\n",
    "                if data:\n",
    "                    try:\n",
    "                        data=int(data)\n",
    "                    except:\n",
    "                        pass\n",
    "                    col[i][1].append(data)\n",
    "\n",
    "                #Increment i for the next column\n",
    "                i+=1\n",
    "\n",
    "    if len(winCond) != 0: \n",
    "        col.append((\"Won?\", winCond))\n",
    "    \n",
    "    col.append((\"Player Label\", playerLabel))\n",
    "    \n",
    "    Dict={title:column for (title,column) in col}\n",
    "    #print(Dict)\n",
    "    \"\"\"\"\n",
    "    for k,v in Dict.items():\n",
    "        print (k, len(list(filter(None, v))))\n",
    "    \"\"\"\n",
    "    df=pd.DataFrame(Dict)\n",
    "    #rename column titles to be used later\n",
    "    df.columns = [\"date\", \"player_team\", \"opponent\", \"map\", \"killsdeath\", \"difference\", \"rating\", \"won\", \"player\"]\n",
    "    df=df.drop(['date'], axis=1)\n",
    "    df = df[[\"player\",\"player_team\", \"opponent\", \"map\", \"killsdeath\", \"difference\", \"rating\" ,\"won\"]]\n",
    "    \n",
    "    numpyData = df.to_numpy()\n",
    "    return(numpyData)"
   ]
  },
  {
   "cell_type": "code",
   "execution_count": 78,
   "metadata": {},
   "outputs": [],
   "source": [
    "def getMatrix(playerURLs, players):\n",
    "     \n",
    "    count = 0\n",
    "    #this gets the size of our master array\n",
    "    temp = getStats(playerURLs[0], players[0])\n",
    "    tempSize = temp.shape\n",
    "    finMatrix = np.zeros(shape=(1,tempSize[1]))\n",
    "    \n",
    "    for i in range(0, len(players) - 1):\n",
    "        count += 1\n",
    "        toAdd = getStats(playerURLs[i], players[i])\n",
    "        finMatrix = np.vstack((finMatrix, toAdd))\n",
    "        #print(count)\n",
    "      \n",
    "    finMatrix = np.delete(finMatrix, (0), axis=0)\n",
    "    return finMatrix\n"
   ]
  },
  {
   "cell_type": "code",
   "execution_count": 79,
   "metadata": {
    "scrolled": true
   },
   "outputs": [
    {
     "name": "stdout",
     "output_type": "stream",
     "text": [
      "<Response [200]>\n",
      "<Response [200]>\n",
      "<Response [200]>\n",
      "<Response [200]>\n",
      "<Response [200]>\n",
      "<Response [200]>\n",
      "<Response [200]>\n",
      "<Response [200]>\n",
      "<Response [200]>\n",
      "<Response [200]>\n",
      "<Response [200]>\n",
      "<Response [200]>\n",
      "<Response [200]>\n",
      "<Response [200]>\n",
      "<Response [200]>\n",
      "<Response [200]>\n",
      "<Response [200]>\n",
      "<Response [200]>\n",
      "<Response [200]>\n",
      "<Response [200]>\n",
      "<Response [200]>\n",
      "<Response [200]>\n",
      "<Response [200]>\n",
      "<Response [200]>\n",
      "<Response [200]>\n",
      "<Response [200]>\n",
      "<Response [200]>\n",
      "<Response [200]>\n",
      "<Response [200]>\n",
      "<Response [200]>\n",
      "<Response [200]>\n",
      "<Response [200]>\n",
      "<Response [200]>\n",
      "<Response [200]>\n",
      "<Response [200]>\n",
      "<Response [200]>\n",
      "<Response [200]>\n",
      "<Response [200]>\n",
      "<Response [200]>\n",
      "<Response [200]>\n",
      "<Response [200]>\n",
      "<Response [200]>\n",
      "<Response [200]>\n",
      "<Response [200]>\n",
      "<Response [200]>\n",
      "<Response [200]>\n",
      "<Response [200]>\n",
      "<Response [200]>\n",
      "<Response [200]>\n",
      "<Response [200]>\n",
      "<Response [200]>\n",
      "<Response [200]>\n",
      "<Response [200]>\n",
      "<Response [200]>\n",
      "<Response [200]>\n",
      "<Response [200]>\n",
      "<Response [200]>\n",
      "<Response [200]>\n",
      "<Response [200]>\n",
      "<Response [200]>\n",
      "<Response [200]>\n",
      "<Response [200]>\n",
      "<Response [200]>\n",
      "<Response [200]>\n",
      "<Response [200]>\n",
      "<Response [200]>\n",
      "<Response [200]>\n",
      "<Response [200]>\n",
      "<Response [200]>\n"
     ]
    }
   ],
   "source": [
    "player_data=getMatrix(playerPages, playerNames)"
   ]
  },
  {
   "cell_type": "code",
   "execution_count": 81,
   "metadata": {},
   "outputs": [],
   "source": [
    "def string_to_num(names):\n",
    "    #Turn names of teams and maps into numbers by using the ASCII code of each character\n",
    "    names_num=[]\n",
    "    for name in names:\n",
    "        names_num.append(''.join(str(ord(c)) for c in name))\n",
    "    return names_num"
   ]
  },
  {
   "cell_type": "code",
   "execution_count": 84,
   "metadata": {},
   "outputs": [],
   "source": [
    "player_data[:,0]=string_to_num(player_data[:,0])\n",
    "player_data[:,1]=string_to_num(player_data[:,1])\n",
    "player_data[:,2]=string_to_num(player_data[:,2])\n",
    "player_data[:,3]=string_to_num(player_data[:,3])"
   ]
  },
  {
   "cell_type": "code",
   "execution_count": 86,
   "metadata": {},
   "outputs": [],
   "source": [
    "ratings=player_data[:,-2]\n",
    "\n",
    "#Clean up the data, remove * and turn strings to floats\n",
    "for i in range(len(ratings)):\n",
    "    if ratings[i][4:7]==' *':\n",
    "        ratings[i]=ratings[i][:4]\n",
    "player_data[:,-2]=[float(i) for i in ratings]\n"
   ]
  },
  {
   "cell_type": "code",
   "execution_count": 109,
   "metadata": {},
   "outputs": [],
   "source": [
    "#Get only the team, opponent and map columns for the X matrix as we would not have \n",
    "#the other information before the beginning of a game\n",
    "X=player_data[:, [1,2,3]]\n",
    "#Get only the \"won?\" column for the y array\n",
    "y=player_data[:,-1]\n",
    "y=y.astype('int')"
   ]
  },
  {
   "cell_type": "code",
   "execution_count": 199,
   "metadata": {},
   "outputs": [],
   "source": [
    "from sklearn.model_selection import train_test_split\n",
    "train_X, test_X, train_y, test_y = train_test_split(X, y, test_size=0.33, random_state=42)"
   ]
  },
  {
   "cell_type": "code",
   "execution_count": 208,
   "metadata": {},
   "outputs": [],
   "source": [
    "#Figure out what the best parameters are for the Neural Network\n",
    "from sklearn.neural_network import MLPClassifier\n",
    "mlp = MLPClassifier(max_iter=100)\n",
    "\n",
    "parameter_space = {\n",
    "    'hidden_layer_sizes': [(300,150,50), (100,50), (100, 50,50,10), (100,)],\n",
    "    'activation': ['tanh', 'relu', 'identity', 'logistic'],\n",
    "    'solver': ['sgd', 'adam','lbfgs'],\n",
    "    'alpha': [0.001, 0.1, 0.05],\n",
    "    'learning_rate': ['constant','adaptive','invscaling'],\n",
    "}\n"
   ]
  },
  {
   "cell_type": "code",
   "execution_count": null,
   "metadata": {},
   "outputs": [],
   "source": [
    "from sklearn.model_selection import GridSearchCV\n",
    "\n",
    "clf = GridSearchCV(mlp, parameter_space, n_jobs=-1, cv=3)\n",
    "clf.fit(train_X, train_y)\n",
    "\n",
    "# Best parameters set\n",
    "print('Best parameters found:\\n', clf.best_params_)\n",
    "\n",
    "# All results\n",
    "means = clf.cv_results_['mean_test_score']\n",
    "stds = clf.cv_results_['std_test_score']\n",
    "for mean, std, params in zip(means, stds, clf.cv_results_['params']):\n",
    "    print(\"%0.3f (+/-%0.03f) for %r\" % (mean, std * 2, params))\n",
    "\n",
    "y_true, y_pred = test_y , clf.predict(test_X)"
   ]
  },
  {
   "cell_type": "code",
   "execution_count": null,
   "metadata": {},
   "outputs": [],
   "source": [
    "from sklearn.metrics import classification_report\n",
    "print('Results on the test set:')\n",
    "print(classification_report(y_true, y_pred))"
   ]
  },
  {
   "cell_type": "code",
   "execution_count": 201,
   "metadata": {},
   "outputs": [
    {
     "data": {
      "text/plain": [
       "MLPClassifier(activation='tanh', alpha=0.0001, batch_size='auto', beta_1=0.9,\n",
       "       beta_2=0.999, early_stopping=False, epsilon=1e-08,\n",
       "       hidden_layer_sizes=(100,), learning_rate='constant',\n",
       "       learning_rate_init=0.001, max_iter=200, momentum=0.9,\n",
       "       n_iter_no_change=10, nesterovs_momentum=True, power_t=0.5,\n",
       "       random_state=None, shuffle=True, solver='sgd', tol=0.0001,\n",
       "       validation_fraction=0.1, verbose=False, warm_start=False)"
      ]
     },
     "execution_count": 201,
     "metadata": {},
     "output_type": "execute_result"
    }
   ],
   "source": [
    "#Fit data on MultiLayer Preceptron neural network\n",
    "from sklearn.neural_network import MLPClassifier\n",
    "#chose these parameters from GridSearch\n",
    "clf = MLPClassifier(activation='tanh', alpha= 0.0001, hidden_layer_sizes= (100,), learning_rate= 'constant', solver= 'sgd')\n",
    "clf.fit(train_X, train_y)"
   ]
  },
  {
   "cell_type": "code",
   "execution_count": 202,
   "metadata": {},
   "outputs": [],
   "source": [
    "y_pred=clf.predict(test_X)"
   ]
  },
  {
   "cell_type": "code",
   "execution_count": 203,
   "metadata": {},
   "outputs": [],
   "source": [
    "from sklearn.metrics import accuracy_score\n",
    "accuracy=accuracy_score(test_y, y_pred)"
   ]
  },
  {
   "cell_type": "code",
   "execution_count": 204,
   "metadata": {},
   "outputs": [
    {
     "data": {
      "text/plain": [
       "0.5706343189284812"
      ]
     },
     "execution_count": 204,
     "metadata": {},
     "output_type": "execute_result"
    }
   ],
   "source": [
    "accuracy"
   ]
  },
  {
   "cell_type": "code",
   "execution_count": 32,
   "metadata": {},
   "outputs": [
    {
     "name": "stdout",
     "output_type": "stream",
     "text": [
      "[[39 231 592 '29 ' ' 10' 19]\n",
      " [39 220 598 '27 ' ' 17' 10]\n",
      " [39 506 592 '20 ' ' 14' 6]\n",
      " ...\n",
      " [116 590 597 '19 ' ' 16' 3]\n",
      " [117 132 592 '21 ' ' 21' 0]\n",
      " [116 591 597 '23 ' ' 17' 6]]\n"
     ]
    }
   ],
   "source": [
    "print(test_X)"
   ]
  },
  {
   "cell_type": "markdown",
   "metadata": {},
   "source": []
  },
  {
   "cell_type": "markdown",
   "metadata": {},
   "source": [
    "FOR SINGLE PLAYER DATA, HAVE THE PLAYER RATINGS OVER TIME"
   ]
  },
  {
   "cell_type": "code",
   "execution_count": null,
   "metadata": {},
   "outputs": [],
   "source": [
    "#Get single players data\n",
    "\"\"\"\n",
    "import matplotlib.pyplot as plt\n",
    "\n",
    "rain_data=getStats('https://www.hltv.org/stats/players/matches/8183/rain', 'rain')\n",
    "plt.scatter(range(len(rain_data[:,-2])), list(rain_data[:,-2]))\n",
    "plt.plot\n",
    "plt.ylabel('Ratings')\n",
    "plt.show()\n",
    "\"\"\""
   ]
  },
  {
   "cell_type": "code",
   "execution_count": 65,
   "metadata": {},
   "outputs": [],
   "source": [
    "ratings=rain_data[:,-2]\n",
    "\n",
    "#Clean up the data, remove * and turn strings to floats\n",
    "for i in range(len(ratings)):\n",
    "    if ratings[i][4:7]==' *':\n",
    "        ratings[i]=ratings[i][:4]\n",
    "ratings=[float(i) for i in ratings]"
   ]
  },
  {
   "cell_type": "code",
   "execution_count": 66,
   "metadata": {},
   "outputs": [
    {
     "name": "stdout",
     "output_type": "stream",
     "text": [
      "-7.594573779039191e-05 1.181536615659179\n"
     ]
    }
   ],
   "source": [
    "from statistics import mean\n",
    "import numpy as np\n",
    "\n",
    "ys = np.array(ratings, dtype=np.float64)\n",
    "xs = np.array(range(len(ratings)), dtype=np.float64)\n",
    "\n",
    "def best_fit_slope_and_intercept(xs,ys):\n",
    "    m = (((mean(xs)*mean(ys)) - mean(xs*ys)) /\n",
    "         ((mean(xs)*mean(xs)) - mean(xs*xs)))\n",
    "    \n",
    "    b = mean(ys) - m*mean(xs)\n",
    "    \n",
    "    return m, b\n",
    "\n",
    "m, b = best_fit_slope_and_intercept(xs,ys)\n",
    "\n",
    "print(m,b)"
   ]
  },
  {
   "cell_type": "code",
   "execution_count": 67,
   "metadata": {},
   "outputs": [],
   "source": [
    "regression_line = [(m*x)+b for x in xs]"
   ]
  },
  {
   "cell_type": "code",
   "execution_count": 68,
   "metadata": {},
   "outputs": [],
   "source": [
    "import matplotlib.pyplot as plt\n",
    "from matplotlib import style\n",
    "style.use('ggplot')"
   ]
  },
  {
   "cell_type": "code",
   "execution_count": 69,
   "metadata": {},
   "outputs": [
    {
     "data": {
      "image/png": "[encoded data removed]",
      "text/plain": [
       "<Figure size 432x288 with 1 Axes>"
      ]
     },
     "metadata": {},
     "output_type": "display_data"
    }
   ],
   "source": [
    "#Best fit line for single player 'rain'\n",
    "\n",
    "plt.scatter(xs,ys,color='#003F72',label='data')\n",
    "plt.plot(xs, regression_line, 'regression line')\n",
    "plt.legend(loc=4)\n",
    "plt.show()"
   ]
  },
  {
   "cell_type": "code",
   "execution_count": null,
   "metadata": {},
   "outputs": [],
   "source": []
  }
 ],
 "metadata": {
  "kernelspec": {
   "display_name": "Python 3",
   "language": "python",
   "name": "python3"
  },
  "language_info": {
   "codemirror_mode": {
    "name": "ipython",
    "version": 3
   },
   "file_extension": ".py",
   "mimetype": "text/x-python",
   "name": "python",
   "nbconvert_exporter": "python",
   "pygments_lexer": "ipython3",
   "version": "3.7.1"
  }
 },
 "nbformat": 4,
 "nbformat_minor": 2
}
