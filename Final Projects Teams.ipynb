{
 "cells": [
  {
   "cell_type": "code",
   "execution_count": 2,
   "metadata": {},
   "outputs": [],
   "source": [
    "teamNames = [\n",
    "    'Astralis',\n",
    "    'Liquid',\n",
    "    'Natus Vincere',\n",
    "    'Faze',\n",
    "    'ENCE',\n",
    "    'Renegades',\n",
    "    'MIBR',\n",
    "    'NiP',\n",
    "    'Vitality',\n",
    "    'fnatic',\n",
    "    'NRG',\n",
    "    'North',\n",
    "    'G2',\n",
    "    'AVANGAR',\n",
    "    'Windigo',\n",
    "    'FURIA',\n",
    "    'Valiance',\n",
    "    'Heroic',\n",
    "    'BIG',\n",
    "    'forZe',\n",
    "    'mousesports',\n",
    "    'OpTic',\n",
    "    'Sprout',\n",
    "    'ex-devils.one',\n",
    "    'AGO',\n",
    "    'Epsilon',\n",
    "    'compLexity',\n",
    "    'Tricked',\n",
    "    'Spirit',\n",
    "    'TYLOO'\n",
    "]"
   ]
  },
  {
   "cell_type": "code",
   "execution_count": 3,
   "metadata": {},
   "outputs": [],
   "source": [
    "teamURLs = [\n",
    "    'https://www.hltv.org/results?team=6665',\n",
    "    'https://www.hltv.org/results?team=5973',\n",
    "    'https://www.hltv.org/results?team=4608',\n",
    "    'https://www.hltv.org/results?team=6667',\n",
    "    'https://www.hltv.org/results?team=4869',\n",
    "    'https://www.hltv.org/results?team=6211',\n",
    "    'https://www.hltv.org/results?team=9215',\n",
    "    'https://www.hltv.org/results?team=4411',\n",
    "    'https://www.hltv.org/results?team=9565',\n",
    "    'https://www.hltv.org/results?team=4991',\n",
    "    'https://www.hltv.org/results?team=6673',\n",
    "    'https://www.hltv.org/results?team=7533',\n",
    "    'https://www.hltv.org/results?team=5995',\n",
    "    'https://www.hltv.org/results?team=8120',\n",
    "    'https://www.hltv.org/results?team=8513',\n",
    "    'https://www.hltv.org/results?team=8297',\n",
    "    'https://www.hltv.org/results?team=8481',\n",
    "    'https://www.hltv.org/results?team=7175',\n",
    "    'https://www.hltv.org/results?team=7532',\n",
    "    'https://www.hltv.org/results?team=8135',\n",
    "    'https://www.hltv.org/results?team=4494'\n",
    "]"
   ]
  },
  {
   "cell_type": "code",
   "execution_count": 8,
   "metadata": {},
   "outputs": [],
   "source": [
    "import requests\n",
    "import lxml.html as lh\n",
    "import pandas as pd\n",
    "import numpy as np\n",
    "\n",
    "user_agent = 'Mozilla/5.0 (Macintosh; Intel Mac OS X 10_13_6) AppleWebKit/537.36 (KHTML, like Gecko) Chrome/73.0.3683.103 Safari/537.36'\n",
    "headers = {'User-Agent': user_agent}"
   ]
  },
  {
   "cell_type": "code",
   "execution_count": 22,
   "metadata": {},
   "outputs": [],
   "source": [
    "def getTeamStats(url):\n",
    "    \n",
    "     #Create a handle, page, to handle the contents of the website\n",
    "    page = requests.get(url,headers=headers)\n",
    "    \n",
    "    #Store the contents of the website under doc\n",
    "    doc = lh.fromstring(page.content)\n",
    "    #Parse data that are stored between <tr>..</tr> of HTML\n",
    "    tr_elements = doc.xpath('//tr')\n",
    "\n",
    "    tr_elements = doc.xpath('//tr')\n",
    "    \n",
    "    \n",
    "    #header list\n",
    "    names = ['Team', 'Score', 'Oponent', 'Tournament', 'Map']\n",
    "    #Create empty list\n",
    "    col=[]\n",
    "    i=1\n",
    "    #For each row, store each first element (header) and an empty list\n",
    "    for name in names:\n",
    "        col.append((name,[]))\n",
    "        i+= 1\n",
    "\n",
    "    winCond = []  \n",
    "    playerLabel = []\n",
    "    #Since our first row is the header, data is stored on the second row onwards\n",
    "    for j in range(1,len(tr_elements)):\n",
    "        #T is our j'th row\n",
    "        T=tr_elements[j]\n",
    "\n",
    "        #If row is not of proper length, the //tr data is not from our table \n",
    "        if len(T)== len(tr_elements[1]):\n",
    "\n",
    "            #i is the index of our column\n",
    "            i=0\n",
    "           \n",
    "            #Iterate through each element of the row\n",
    "            for t in T.iterchildren():\n",
    "\n",
    "                data=t.text_content()\n",
    "                \n",
    "                html_page = data\n",
    "                    \n",
    "                textString = lh.tostring(t)\n",
    "                textString = str(textString)\n",
    "                #print(textString)\n",
    "\n",
    "                if (\"table-time datet\" in textString ):\n",
    "                    data = i\n",
    "                elif \"match-lost\" in textString :\n",
    "                    winCond.append(0)\n",
    "                elif \"match-tied\" in textString:\n",
    "                    winCond.append(2)\n",
    "\n",
    "                \n",
    "                \n",
    "                data = str(data)\n",
    "                data = data.replace('\\n','')\n",
    "                data = data.strip()\n",
    "                #print(data)\n",
    "                #print(i)\n",
    "\n",
    "\n",
    "                #I put this in because for some reason some graphs have empty columns\n",
    "                if data:\n",
    "                    try:\n",
    "                        data=int(data)\n",
    "                    except:\n",
    "                        pass\n",
    "                    col[i][1].append(data)\n",
    "                    \n",
    "                    if i == 1:\n",
    "                        \n",
    "                        scores = []\n",
    "                        split = data.split('-')\n",
    "                        \n",
    "                        for num in split:\n",
    "                            scores.append(int(num))\n",
    "                            if len(scores) == 2:\n",
    "                                if scores[0] > scores[1]:\n",
    "                                    winCond.append(1)\n",
    "                                else:\n",
    "                                    winCond.append(0)\n",
    "                        #print(scores)\n",
    "                #Increment i for the next column\n",
    "                i+=1\n",
    "\n",
    "    if len(winCond) != 0: \n",
    "        col.append((\"Won?\", winCond))\n",
    "    \n",
    "    #col.append((\"Player Label\", playerLabel))\n",
    "    \n",
    "    Dict={title:column for (title,column) in col}\n",
    "    #print(Dict)\n",
    "    \"\"\"\"\n",
    "    for k,v in Dict.items():\n",
    "        print (k, len(list(filter(None, v))))\n",
    "    \"\"\"\n",
    "    df=pd.DataFrame(Dict)\n",
    "    df.head()\n",
    "    \n",
    "    numpyData = df.to_numpy()\n",
    "    return(numpyData)\n"
   ]
  },
  {
   "cell_type": "code",
   "execution_count": 23,
   "metadata": {},
   "outputs": [],
   "source": [
    "def getTeamMatrix(teamURLs):\n",
    "     \n",
    "    count = 0\n",
    "    #this gets the size of our master array\n",
    "    temp = getTeamStats(teamURLs[0])\n",
    "    tempSize = temp.shape\n",
    "    finMatrix = np.zeros(shape=(1,tempSize[1]))\n",
    "    \n",
    "    for team in teamURLs:\n",
    "        toAdd = getTeamStats(team)\n",
    "        finMatrix = np.vstack((finMatrix, toAdd))\n",
    "    \n",
    "    finMatrix = np.delete(finMatrix, (0), axis=0)\n",
    "    return finMatrix\n"
   ]
  },
  {
   "cell_type": "code",
   "execution_count": 24,
   "metadata": {},
   "outputs": [],
   "source": [
    "team_matrix=getTeamMatrix(teamURLs)"
   ]
  },
  {
   "cell_type": "code",
   "execution_count": 25,
   "metadata": {},
   "outputs": [
    {
     "data": {
      "text/plain": [
       "array([['Astralis', '2 - 0', 'HellRaisers',\n",
       "        'ESL Pro League Season 9 Europe', 'bo3', 1],\n",
       "       ['Astralis', '2 - 0', 'ex-3DMAX',\n",
       "        'ESL Pro League Season 9 Europe', 'bo3', 1],\n",
       "       ['Astralis', '5 - 16', 'FaZe', 'BLAST Pro Series Miami 2019',\n",
       "        'd2', 0],\n",
       "       ...,\n",
       "       ['mousesports', '2 - 0', 'Não Tem Como',\n",
       "        'ESL One Belo Horizonte 2018', 'bo3', 1],\n",
       "       ['mousesports', '1 - 2', 'Natus Vincere',\n",
       "        'StarSeries i-League Season 5', 'bo3', 0],\n",
       "       ['mousesports', '2 - 1', 'NiP', 'StarSeries i-League Season 5',\n",
       "        'bo3', 1]], dtype=object)"
      ]
     },
     "execution_count": 25,
     "metadata": {},
     "output_type": "execute_result"
    }
   ],
   "source": [
    "team_matrix"
   ]
  },
  {
   "cell_type": "code",
   "execution_count": 26,
   "metadata": {},
   "outputs": [],
   "source": [
    "def string_to_num(names):\n",
    "    names_num=[]\n",
    "    for name in names:\n",
    "        names_num.append(''.join(str(ord(c)) for c in name))\n",
    "    return names_num"
   ]
  },
  {
   "cell_type": "code",
   "execution_count": 29,
   "metadata": {},
   "outputs": [],
   "source": [
    "team_matrix[:,0]=string_to_num(team_matrix[:,0])\n",
    "team_matrix[:,2]=string_to_num(team_matrix[:,1])\n",
    "team_matrix[:,3]=string_to_num(team_matrix[:,2])\n",
    "team_matrix[:,4]=string_to_num(team_matrix[:,3])"
   ]
  },
  {
   "cell_type": "code",
   "execution_count": 30,
   "metadata": {},
   "outputs": [],
   "source": [
    "X=team_matrix[:, [0,2,3,4]]\n",
    "y=team_matrix[:,-1]\n",
    "y=y.astype('int')"
   ]
  },
  {
   "cell_type": "code",
   "execution_count": 31,
   "metadata": {},
   "outputs": [],
   "source": [
    "from sklearn.model_selection import train_test_split\n",
    "train_X, test_X, train_y, test_y = train_test_split(X, y, test_size=0.33, random_state=42)"
   ]
  },
  {
   "cell_type": "code",
   "execution_count": 38,
   "metadata": {},
   "outputs": [
    {
     "data": {
      "text/plain": [
       "SVC(C=1.0, cache_size=200, class_weight=None, coef0=0.0,\n",
       "  decision_function_shape='ovr', degree=3, gamma='auto', kernel='rbf',\n",
       "  max_iter=-1, probability=False, random_state=None, shrinking=True,\n",
       "  tol=0.001, verbose=False)"
      ]
     },
     "execution_count": 38,
     "metadata": {},
     "output_type": "execute_result"
    }
   ],
   "source": [
    "from sklearn.svm import SVC\n",
    "clf = SVC(gamma='auto')\n",
    "clf.fit(train_X, train_y)"
   ]
  },
  {
   "cell_type": "code",
   "execution_count": 39,
   "metadata": {},
   "outputs": [],
   "source": [
    "predicts=clf.predict(test_X)"
   ]
  },
  {
   "cell_type": "code",
   "execution_count": 40,
   "metadata": {},
   "outputs": [
    {
     "data": {
      "text/plain": [
       "0.5612244897959183"
      ]
     },
     "execution_count": 40,
     "metadata": {},
     "output_type": "execute_result"
    }
   ],
   "source": [
    "clf.score(test_X, test_y)"
   ]
  },
  {
   "cell_type": "code",
   "execution_count": null,
   "metadata": {},
   "outputs": [],
   "source": []
  },
  {
   "cell_type": "code",
   "execution_count": null,
   "metadata": {},
   "outputs": [],
   "source": [
    "##go through each node in graph\n",
    "char_colors = []\n",
    "char_sizes = []\n",
    "for n in list(df.player_team):\n",
    "    char_colors.append('blue')\n",
    "\n",
    "for n in list(df.opponent):\n",
    "    char_colors.append('red')"
   ]
  },
  {
   "cell_type": "code",
   "execution_count": null,
   "metadata": {},
   "outputs": [],
   "source": [
    "import networkx as nx\n",
    "import matplotlib.pyplot as plt\n",
    "\n",
    "array = df.to_numpy()\n",
    "\n",
    "G = nx.Graph()\n",
    "node_list = list(df.player_team)+list(df.opponent)\n",
    "node_list = list(dict.fromkeys(node_list))\n",
    "edge_list=[]\n",
    "for l in range(len(array)):\n",
    "    edge_list.append((array[l][1], array[l][2]))"
   ]
  },
  {
   "cell_type": "code",
   "execution_count": null,
   "metadata": {},
   "outputs": [],
   "source": [
    "for n in G.nodes():\n",
    "    ##get the node's degree\n",
    "    deg = nx.degree(partnerGraph,nbunch=n)\n",
    "    ##scale the size of the node by the square root of their degree -- doubled for easier viewing \n",
    "    char_sizes.append(2 * sqrt(deg)) "
   ]
  },
  {
   "cell_type": "code",
   "execution_count": null,
   "metadata": {},
   "outputs": [],
   "source": [
    "G.add_nodes_from(node_list)\n",
    "G.add_edges_from(edge_list)\n",
    "\n",
    "\"\"\"\n",
    "print(\"Graph Nodes: \")\n",
    "print(G.nodes())\n",
    "print(\"Graph Edges: \")\n",
    "print(G.edges())\n",
    "\"\"\"\n",
    "\n",
    "plt.plot(1)\n",
    "nx.draw(G, node_size=char_sizes)\n",
    "plt.figure(figsize=(10,10))  #make bigger\n",
    "plt.title(\"Player Team - Opponent Team network\")\n",
    "plt.show()"
   ]
  }
 ],
 "metadata": {
  "kernelspec": {
   "display_name": "Python 3",
   "language": "python",
   "name": "python3"
  },
  "language_info": {
   "codemirror_mode": {
    "name": "ipython",
    "version": 3
   },
   "file_extension": ".py",
   "mimetype": "text/x-python",
   "name": "python",
   "nbconvert_exporter": "python",
   "pygments_lexer": "ipython3",
   "version": "3.7.1"
  }
 },
 "nbformat": 4,
 "nbformat_minor": 2
}
